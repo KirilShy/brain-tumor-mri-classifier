{
 "cells": [
  {
   "cell_type": "code",
   "execution_count": 2,
   "id": "f5332cfb-6fbb-41cb-8259-651f0e29e11b",
   "metadata": {},
   "outputs": [],
   "source": [
    "import torch\n",
    "from torch import nn, optim\n",
    "from torchvision import datasets, transforms\n",
    "from torch.utils.data import DataLoader\n",
    "\n",
    "device = torch.device('cuda' if torch.cuda.is_available() else 'cpu')\n",
    "\n",
    "tf = transforms.Compose([\n",
    "    transforms.Resize((128, 128)),\n",
    "    transforms.ToTensor(),\n",
    "    transforms.Normalize([0.5, 0.5, 0.5], [0.5, 0.5, 0.5])\n",
    "])\n",
    "\n",
    "\n",
    "train_dl = DataLoader(\n",
    "    datasets.ImageFolder('data/Training', tf),\n",
    "    batch_size=32, shuffle=True, num_workers=4, pin_memory=True\n",
    ")\n",
    "\n",
    "test_dl = DataLoader(\n",
    "    datasets.ImageFolder('data/Testing', tf),\n",
    "    batch_size=32, shuffle=True, num_workers=4, pin_memory=True\n",
    ")"
   ]
  },
  {
   "cell_type": "code",
   "execution_count": 3,
   "id": "893374eb-78d6-43e1-88ed-2e5610d2f5c5",
   "metadata": {},
   "outputs": [],
   "source": [
    "model = nn.Sequential(\n",
    "    nn.Conv2d(3, 32, 3, 1, 1), nn.ReLU(), nn.MaxPool2d(2),\n",
    "    nn.Conv2d(32, 64, 3, 1, 1), nn.ReLU(), nn.MaxPool2d(2),\n",
    "    nn.Conv2d(64, 128, 3, 1, 1), nn.ReLU(), nn.MaxPool2d(2),\n",
    "    nn.Flatten(),\n",
    "    nn.Linear(128 * 16 * 16, 256), nn.ReLU(), nn.Dropout(0.5),\n",
    "    nn.Linear(256, 4)\n",
    ").to(device)"
   ]
  },
  {
   "cell_type": "code",
   "execution_count": 4,
   "id": "3a3f1ac2-b43e-4026-8a2e-48dc7ede61c8",
   "metadata": {},
   "outputs": [],
   "source": [
    "opt = optim.AdamW(model.parameters(), 1e-4)\n",
    "loss_fn = nn.CrossEntropyLoss()"
   ]
  },
  {
   "cell_type": "code",
   "execution_count": 7,
   "id": "a082979e-3346-45f9-8095-754d1ef1867e",
   "metadata": {},
   "outputs": [
    {
     "name": "stdout",
     "output_type": "stream",
     "text": [
      "Epoch 1: Loss was 153.25660705566406\n",
      "Epoch 2: Loss was 101.19564819335938\n",
      "Epoch 3: Loss was 82.53191375732422\n",
      "Epoch 4: Loss was 72.28308868408203\n",
      "Epoch 5: Loss was 65.00205993652344\n",
      "Epoch 6: Loss was 57.7688102722168\n",
      "Epoch 7: Loss was 50.11883544921875\n",
      "Epoch 8: Loss was 45.23326873779297\n",
      "Epoch 9: Loss was 41.178436279296875\n",
      "Epoch 10: Loss was 34.92885208129883\n",
      "Epoch 11: Loss was 32.432044982910156\n",
      "Epoch 12: Loss was 29.602455139160156\n",
      "Epoch 13: Loss was 25.5443115234375\n",
      "Epoch 14: Loss was 22.668842315673828\n",
      "Epoch 15: Loss was 20.021303176879883\n",
      "Epoch 16: Loss was 19.479610443115234\n",
      "Epoch 17: Loss was 17.62127685546875\n",
      "Epoch 18: Loss was 15.198801040649414\n",
      "Epoch 19: Loss was 14.0827054977417\n",
      "Epoch 20: Loss was 13.675762176513672\n",
      "Epoch 21: Loss was 10.190719604492188\n",
      "Epoch 22: Loss was 10.432578086853027\n",
      "Epoch 23: Loss was 8.86497974395752\n",
      "Epoch 24: Loss was 8.283863067626953\n",
      "Epoch 25: Loss was 9.139556884765625\n"
     ]
    }
   ],
   "source": [
    "model.train()\n",
    "\n",
    "for epoch in range(25):\n",
    "    running_loss = 0\n",
    "\n",
    "    for x, y in train_dl:\n",
    "        opt.zero_grad()\n",
    "\n",
    "        loss = loss_fn(model(x.to(device)), y.to(device))\n",
    "        loss.backward()\n",
    "        \n",
    "        running_loss += loss\n",
    "\n",
    "        opt.step()\n",
    "\n",
    "    print(f'Epoch {epoch+1}: Loss was {running_loss}')"
   ]
  },
  {
   "cell_type": "code",
   "execution_count": 6,
   "id": "8bdf2f55-ce10-4f72-9312-90d9af97fb97",
   "metadata": {},
   "outputs": [
    {
     "name": "stdout",
     "output_type": "stream",
     "text": [
      "torch: 2.8.0+cu129\n",
      "cuda available: True\n",
      "device: NVIDIA GeForce RTX 5060 Ti\n",
      "cuda runtime: 12.9\n"
     ]
    }
   ],
   "source": [
    "import torch\n",
    "print(\"torch:\", torch.__version__)\n",
    "print(\"cuda available:\", torch.cuda.is_available())\n",
    "if torch.cuda.is_available():\n",
    "    print(\"device:\", torch.cuda.get_device_name(0))\n",
    "    print(\"cuda runtime:\", torch.version.cuda)"
   ]
  },
  {
   "cell_type": "code",
   "execution_count": 11,
   "id": "62dfc2c8-05a9-4183-ba65-b6e437cc857b",
   "metadata": {},
   "outputs": [
    {
     "name": "stdout",
     "output_type": "stream",
     "text": [
      "Test Loss: 0.13237491785672945 Test Accuracy: 96.5675057208238 %\n"
     ]
    }
   ],
   "source": [
    "model.eval()\n",
    "test_loss, correct = 0.0, 0\n",
    "\n",
    "with torch.no_grad():\n",
    "    for x,y in test_dl:\n",
    "        x, y = x.to(device), y.to(device)\n",
    "\n",
    "        logits = model(x)\n",
    "        test_loss += loss_fn(logits, y).item() * y.size(0)\n",
    "\n",
    "        preds = logits.argmax(dim=1)\n",
    "        correct += (preds == y).sum().item()\n",
    "\n",
    "test_loss /= len(test_dl.dataset)\n",
    "accuracy = 100.0 * correct / len(test_dl.dataset)\n",
    "\n",
    "print('Test Loss:', test_loss, 'Test Accuracy:', accuracy, '%')"
   ]
  },
  {
   "cell_type": "code",
   "execution_count": null,
   "id": "9954d77b-b6c6-45a3-b8a3-e833c66c94df",
   "metadata": {},
   "outputs": [],
   "source": []
  },
  {
   "cell_type": "code",
   "execution_count": null,
   "id": "9afcc43d-bdba-483e-8006-216854452485",
   "metadata": {},
   "outputs": [],
   "source": []
  }
 ],
 "metadata": {
  "kernelspec": {
   "display_name": "Python 3 (ipykernel)",
   "language": "python",
   "name": "python3"
  },
  "language_info": {
   "codemirror_mode": {
    "name": "ipython",
    "version": 3
   },
   "file_extension": ".py",
   "mimetype": "text/x-python",
   "name": "python",
   "nbconvert_exporter": "python",
   "pygments_lexer": "ipython3",
   "version": "3.12.9"
  }
 },
 "nbformat": 4,
 "nbformat_minor": 5
}
